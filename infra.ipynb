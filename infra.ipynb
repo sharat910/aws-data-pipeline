{
 "cells": [
  {
   "cell_type": "code",
   "execution_count": 1,
   "metadata": {},
   "outputs": [
    {
     "data": {
      "text/plain": [
       "True"
      ]
     },
     "execution_count": 1,
     "metadata": {},
     "output_type": "execute_result"
    }
   ],
   "source": [
    "import boto3\n",
    "import os\n",
    "import dotenv\n",
    "\n",
    "dotenv.load_dotenv()"
   ]
  },
  {
   "cell_type": "code",
   "execution_count": 9,
   "metadata": {},
   "outputs": [],
   "source": [
    "def check_aws_credentials():\n",
    "    \"\"\"\n",
    "    Check if the required AWS credentials are set as environment variables.\n",
    "    \"\"\"\n",
    "    required_vars = ['AWS_ACCESS_KEY_ID', 'AWS_SECRET_ACCESS_KEY']\n",
    "    missing_vars = [var for var in required_vars if not os.getenv(var)]\n",
    "\n",
    "    if missing_vars:\n",
    "        raise ValueError(\"AWS credentials are not set\")\n",
    "\n",
    "check_aws_credentials()"
   ]
  },
  {
   "cell_type": "code",
   "execution_count": 4,
   "metadata": {},
   "outputs": [
    {
     "name": "stdout",
     "output_type": "stream",
     "text": [
      "{'kinesis': {'source_stream_name': 'nullify-source-stream', 'enriched_stream_name': 'nullify-enriched-stream'}, 'sns': {'topic_name': 'nullify-threat-intel-topic'}}\n"
     ]
    }
   ],
   "source": [
    "import yaml\n",
    "\n",
    "with open('config.yaml', 'r') as file:\n",
    "    config = yaml.safe_load(file)\n",
    "\n",
    "print(config)"
   ]
  },
  {
   "cell_type": "code",
   "execution_count": 2,
   "metadata": {},
   "outputs": [],
   "source": [
    "def create_kinesis_stream(stream_name, shard_count=1):\n",
    "    \"\"\"\n",
    "    Create a Kinesis stream in provisioned mode with the specified number of shards.\n",
    "\n",
    "    :param stream_name: Name of the Kinesis stream to create\n",
    "    :param shard_count: Number of shards for the stream (default is 1)\n",
    "    :return: True if stream created successfully, False otherwise\n",
    "    \"\"\"\n",
    "    try:\n",
    "        kinesis_client = boto3.client('kinesis', region_name='ap-southeast-2')\n",
    "        kinesis_client.create_stream(\n",
    "            StreamName=stream_name,\n",
    "            ShardCount=shard_count,\n",
    "            StreamModeDetails={\n",
    "                'StreamMode': 'PROVISIONED'\n",
    "            }\n",
    "        )\n",
    "        print(f\"Kinesis stream '{stream_name}' created successfully with {shard_count} shard(s).\")\n",
    "        return True\n",
    "    except Exception as e:\n",
    "        print(f\"An error occurred while creating the Kinesis stream: {e}\")\n",
    "        return False"
   ]
  },
  {
   "cell_type": "code",
   "execution_count": 5,
   "metadata": {},
   "outputs": [
    {
     "name": "stdout",
     "output_type": "stream",
     "text": [
      "Kinesis stream 'nullify-source-stream' created successfully with 1 shard(s).\n",
      "Kinesis stream 'nullify-enriched-stream' created successfully with 1 shard(s).\n"
     ]
    },
    {
     "data": {
      "text/plain": [
       "True"
      ]
     },
     "execution_count": 5,
     "metadata": {},
     "output_type": "execute_result"
    }
   ],
   "source": [
    "create_kinesis_stream(config['kinesis']['source_stream_name'])\n",
    "create_kinesis_stream(config['kinesis']['enriched_stream_name'])"
   ]
  },
  {
   "cell_type": "code",
   "execution_count": null,
   "metadata": {},
   "outputs": [],
   "source": [
    "## Create SNS topic\n",
    "sns_client = boto3.client('sns', region_name='ap-southeast-2')\n",
    "\n",
    "sns_client.create_topic(Name=config['sns']['topic_name'])\n"
   ]
  },
  {
   "cell_type": "code",
   "execution_count": 6,
   "metadata": {},
   "outputs": [
    {
     "name": "stdout",
     "output_type": "stream",
     "text": [
      "\n",
      "Creating index:\n",
      "{'acknowledged': True, 'shards_acknowledged': True, 'index': 'books-index'}\n"
     ]
    }
   ],
   "source": [
    "from opensearchpy import OpenSearch, RequestsHttpConnection, AWSV4SignerAuth\n",
    "from requests_aws4auth import AWS4Auth\n",
    "import boto3\n",
    "\n",
    "service = 'aoss'\n",
    "region = 'ap-southeast-2'\n",
    "service = 'es'\n",
    "username = 'nullify'\n",
    "password = os.getenv('OPENSEARCH_PASSWORD')\n",
    "\n",
    "host = 'search-nullify-test-senb2mnquk4zcaqdlnubnv5g2y.aos.ap-southeast-2.on.aws'\n",
    "\n",
    "# create an opensearch client and use the username and password for authentication\n",
    "client = OpenSearch(\n",
    "    hosts=[{'host': host, 'port': 443}],\n",
    "    http_auth=(username, password),\n",
    "    use_ssl=True,\n",
    "    verify_certs=True,\n",
    "    connection_class=RequestsHttpConnection,\n",
    "    pool_maxsize=20,\n",
    ")\n",
    "\n",
    "# create an index\n",
    "index_name = 'books-index'\n",
    "create_response = client.indices.create(\n",
    "    index_name,\n",
    "    body={\n",
    "        'settings': {\n",
    "            'number_of_shards': 1,\n",
    "            'number_of_replicas': 0\n",
    "        },\n",
    "        'mappings': {\n",
    "            'properties': {\n",
    "                'id': {'type': 'keyword'},\n",
    "                'title': {'type': 'text'},\n",
    "                'director': {'type': 'text'},\n",
    "                'year': {'type': 'text'}\n",
    "            }\n",
    "        },\n",
    "    }\n",
    ")\n",
    "\n",
    "print('\\nCreating index:')\n",
    "print(create_response)"
   ]
  },
  {
   "cell_type": "code",
   "execution_count": 8,
   "metadata": {},
   "outputs": [
    {
     "name": "stdout",
     "output_type": "stream",
     "text": [
      "{'_index': 'books-index', '_id': '1', '_version': 2, 'result': 'updated', '_shards': {'total': 2, 'successful': 1, 'failed': 0}, '_seq_no': 1, '_primary_term': 1}\n",
      "{'_index': 'books-index', '_id': '2', '_version': 1, 'result': 'created', '_shards': {'total': 2, 'successful': 1, 'failed': 0}, '_seq_no': 0, '_primary_term': 1}\n",
      "{'_index': 'books-index', '_id': '3', '_version': 1, 'result': 'created', '_shards': {'total': 2, 'successful': 1, 'failed': 0}, '_seq_no': 0, '_primary_term': 1}\n"
     ]
    }
   ],
   "source": [
    "# index a document\n",
    "documents = [\n",
    "  {\n",
    "      'id': '1',\n",
    "  'title': 'The Green Mile',\n",
    "    'director': 'Stephen King',\n",
    "    'year': '1996'\n",
    "  },\n",
    "  {\n",
    "    'id': '2',\n",
    "    'title': 'The Shawshank Redemption',\n",
    "    'director': 'Stephen King',\n",
    "    'year': '1994'\n",
    "}, {\n",
    "    'id': '3',\n",
    "    'title': 'The Godfather',\n",
    "    'director': 'Francis Ford Coppola',\n",
    "    'year': '1972'\n",
    "}]\n",
    "\n",
    "for d in documents:\n",
    "  response = client.index(\n",
    "      index = 'books-index',\n",
    "      body = d,\n",
    "      id = d['id']\n",
    "  )\n",
    "  print(response)"
   ]
  },
  {
   "cell_type": "code",
   "execution_count": null,
   "metadata": {},
   "outputs": [],
   "source": []
  }
 ],
 "metadata": {
  "kernelspec": {
   "display_name": "aws-3bKIYhK3",
   "language": "python",
   "name": "python3"
  },
  "language_info": {
   "codemirror_mode": {
    "name": "ipython",
    "version": 3
   },
   "file_extension": ".py",
   "mimetype": "text/x-python",
   "name": "python",
   "nbconvert_exporter": "python",
   "pygments_lexer": "ipython3",
   "version": "3.12.5"
  }
 },
 "nbformat": 4,
 "nbformat_minor": 2
}

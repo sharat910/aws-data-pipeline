{
 "cells": [
  {
   "cell_type": "code",
   "execution_count": 1,
   "metadata": {},
   "outputs": [],
   "source": [
    "import json\n",
    "import random\n",
    "import time\n",
    "import requests\n",
    "import boto3\n",
    "import base64"
   ]
  },
  {
   "cell_type": "code",
   "execution_count": 2,
   "metadata": {},
   "outputs": [
    {
     "name": "stdout",
     "output_type": "stream",
     "text": [
      "{'timestamp': '2024-09-23T05:02:28Z', 'source_ip': '166.39.82.16', 'destination_ip': '186.241.210.81', 'event_type': 'access_granted', 'severity': 'medium', 'description': 'User access granted'}\n"
     ]
    }
   ],
   "source": [
    "data = \"eyJ0aW1lc3RhbXAiOiAiMjAyNC0wOS0yM1QwNTowMjoyOFoiLCAic291cmNlX2lwIjogIjE2Ni4zOS44Mi4xNiIsICJkZXN0aW5hdGlvbl9pcCI6ICIxODYuMjQxLjIxMC44MSIsICJldmVudF90eXBlIjogImFjY2Vzc19ncmFudGVkIiwgInNldmVyaXR5IjogIm1lZGl1bSIsICJkZXNjcmlwdGlvbiI6ICJVc2VyIGFjY2VzcyBncmFudGVkIn0=\"\n",
    "event = json.loads(base64.b64decode(data))\n",
    "print(event)"
   ]
  },
  {
   "cell_type": "code",
   "execution_count": 6,
   "metadata": {},
   "outputs": [
    {
     "name": "stdout",
     "output_type": "stream",
     "text": [
      "b'eyJ0aW1lc3RhbXAiOiAiMjAyNC0wOS0yM1QwNTowMjoyOFoiLCAic291cmNlX2lwIjogIjE2Ni4zOS44Mi4xNiIsICJkZXN0aW5hdGlvbl9pcCI6ICIxODYuMjQxLjIxMC44MSIsICJldmVudF90eXBlIjogImFjY2Vzc19ncmFudGVkIiwgInNldmVyaXR5IjogImhpZ2giLCAiZGVzY3JpcHRpb24iOiAiVXNlciBhY2Nlc3MgZ3JhbnRlZCIsICJjb3VudHJ5IjogIlVuaXRlZCBTdGF0ZXMiLCAicmVnaW9uTmFtZSI6ICJNaXNzb3VyaSIsICJjaXR5IjogIkthbnNhcyBDaXR5IiwgImxhdCI6IDM5LjA5OTcsICJsb24iOiAtOTQuNTc4Nn0='\n"
     ]
    }
   ],
   "source": [
    "enriched_event = {'timestamp': '2024-09-23T05:02:28Z', 'source_ip': '166.39.82.16', 'destination_ip': '186.241.210.81', 'event_type': 'access_granted', 'severity': 'high', 'description': 'User access granted', 'country': 'United States', 'regionName': 'Missouri', 'city': 'Kansas City', 'lat': 39.0997, 'lon': -94.5786}\n",
    "\n",
    "enriched_data = base64.b64encode(json.dumps(enriched_event).encode('utf-8'))\n",
    "print(enriched_data)"
   ]
  }
 ],
 "metadata": {
  "kernelspec": {
   "display_name": "aws-3bKIYhK3",
   "language": "python",
   "name": "python3"
  },
  "language_info": {
   "codemirror_mode": {
    "name": "ipython",
    "version": 3
   },
   "file_extension": ".py",
   "mimetype": "text/x-python",
   "name": "python",
   "nbconvert_exporter": "python",
   "pygments_lexer": "ipython3",
   "version": "3.12.5"
  }
 },
 "nbformat": 4,
 "nbformat_minor": 2
}
